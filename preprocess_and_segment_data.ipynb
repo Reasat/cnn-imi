{
 "cells": [
  {
   "cell_type": "code",
   "execution_count": 6,
   "metadata": {
    "collapsed": true
   },
   "outputs": [],
   "source": [
    "import wfdb\n",
    "import os\n",
    "import glob\n",
    "import numpy as np\n",
    "import matplotlib.pyplot as plt \n",
    "import random\n",
    "import pickle\n",
    "from biosppy.signals.ecg import christov_segmenter,engzee_segmenter,gamboa_segmenter,hamilton_segmenter,extract_heartbeats\n",
    "from scipy.signal import resample,filtfilt,butter,freqz, medfilt,savgol_filter"
   ]
  },
  {
   "cell_type": "code",
   "execution_count": 7,
   "metadata": {
    "collapsed": true,
    "scrolled": true
   },
   "outputs": [],
   "source": [
    "fs=1e3 # original sampling rate of PTB ecg signal\n",
    "fs_resampled1=250 \n",
    "fs_resampled2=64"
   ]
  },
  {
   "cell_type": "markdown",
   "metadata": {},
   "source": [
    "# Data directory and filepaths"
   ]
  },
  {
   "cell_type": "code",
   "execution_count": 8,
   "metadata": {
    "collapsed": true
   },
   "outputs": [],
   "source": [
    "data_dir=os.path.join('..','ptbdb') # data is in ../ptbdb/"
   ]
  },
  {
   "cell_type": "code",
   "execution_count": 9,
   "metadata": {},
   "outputs": [
    {
     "data": {
      "text/plain": [
       "['../ptbdb/patient059/s0208lre',\n",
       " '../ptbdb/patient030/s0153lre',\n",
       " '../ptbdb/patient020/s0069lre']"
      ]
     },
     "execution_count": 9,
     "metadata": {},
     "output_type": "execute_result"
    }
   ],
   "source": [
    "filepaths=list(set([os.path.splitext(fl)[0] for fl in glob.glob(os.path.join(data_dir,'*','*'))]))\n",
    "filepaths[0:3]"
   ]
  },
  {
   "cell_type": "markdown",
   "metadata": {},
   "source": [
    "# Utility functions"
   ]
  },
  {
   "cell_type": "code",
   "execution_count": 10,
   "metadata": {
    "collapsed": true
   },
   "outputs": [],
   "source": [
    "def preprocess(sig):\n",
    "    sig_resampled,_=wfdb.processing.resample_sig(sig,fs,fs_resampled1)\n",
    "    sig_resampled_mdf_stg1=medfilt(volume=sig_resampled,kernel_size=fs_resampled1//2)\n",
    "    sig_resampled_mdf_stg2=medfilt(volume=sig_resampled_mdf_stg1,kernel_size=fs_resampled1-1)\n",
    "    sig_resampled_mdf=sig_resampled-sig_resampled_mdf_stg2\n",
    "    sig_resampled_mdf_sg=savgol_filter(x=sig_resampled_mdf,window_length=15,polyorder=3)\n",
    "    sig_resampled_mdf_sg_resampled,_=wfdb.processing.resample_sig(sig_resampled_mdf_sg,fs_resampled1,fs_resampled2)\n",
    "    return sig_resampled_mdf_sg_resampled    \n",
    "def get_segments(key,channels):\n",
    "    sig,fields=wfdb.srdsamp(recordname=key,channels=channels)\n",
    "    sig_processed=[]\n",
    "    for record in sig.T:\n",
    "        record_processed=preprocess(record)\n",
    "        n=int(3.072*fs_resampled2)\n",
    "        n_segments=len(record_processed)//n\n",
    "        record_processed=record_processed[0:n_segments*n]\n",
    "        record_processed=np.reshape(record_processed,[n_segments,n])\n",
    "        sig_processed.append(np.array(record_processed))\n",
    "    sig_processed=np.array(sig_processed) # data shape: [n_channels,n_segments,n_samples]\n",
    "    sig_processed=np.swapaxes(sig_processed,0,1) # data shape: [n_segments,n_channels,n_samples]\n",
    "    if 'Healthy control' in fields['comments'][4]:\n",
    "        label_bin=np.array([1,0])\n",
    "    if 'Myocardial infarction' in fields['comments'][4]:\n",
    "        label_bin=np.array([0,1])\n",
    "    return sig_processed,label_bin"
   ]
  },
  {
   "cell_type": "code",
   "execution_count": 12,
   "metadata": {
    "scrolled": true
   },
   "outputs": [
    {
     "name": "stdout",
     "output_type": "stream",
     "text": [
      "processed 549/549\n",
      "\n"
     ]
    },
    {
     "data": {
      "text/plain": [
       "(30, 52)"
      ]
     },
     "execution_count": 12,
     "metadata": {},
     "output_type": "execute_result"
    }
   ],
   "source": [
    "keys_imi=[]\n",
    "keys_hc=[]\n",
    "data={}\n",
    "segments_hc=0\n",
    "segments_imi=0\n",
    "for i,key in enumerate(filepaths):\n",
    "    _,fields=wfdb.srdsamp(key)\n",
    "    if 'Healthy control' in fields['comments'][4]:\n",
    "        segments,label_bin=get_segments(key,[1,2,4])\n",
    "        data[key]=(segments,label_bin)\n",
    "        segments_hc=segments_hc+segments.shape[0]\n",
    "        keys_hc.append(key)\n",
    "    else:\n",
    "        if 'Myocardial infarction' in fields['comments'][4]:\n",
    "            if 'inferior' in fields['comments'][5]:\n",
    "                segments,label_bin=get_segments(key,[0,1,2,4,5])\n",
    "                data[key]=(segments,label_bin)\n",
    "                segments_imi=segments_imi+segments.shape[0]\n",
    "                keys_imi.append(key)\n",
    "    print('processed {}/{}'.format(i+1,len(filepaths),),end='\\r')\n",
    "print('\\n')\n",
    "patients_imi=set([key.split(os.path.sep)[-2] for key in keys_imi])\n",
    "patients_hc=set([key.split(os.path.sep)[-2] for key in keys_hc])\n",
    "len(patients_imi),len(patients_hc)"
   ]
  },
  {
   "cell_type": "code",
   "execution_count": 13,
   "metadata": {
    "scrolled": false
   },
   "outputs": [
    {
     "name": "stdout",
     "output_type": "stream",
     "text": [
      "Total segments: 6277, HC segments: 3055 (48.67%), IMI segments: 3222 (51.33%)\n"
     ]
    }
   ],
   "source": [
    "segments_total=segments_hc+segments_imi\n",
    "print('Total segments: {}, HC segments: {} ({:.2f}%), IMI segments: {} ({:.2f}%)'.\\\n",
    "      format(segments_total,segments_hc,segments_hc/segments_total*100,segments_imi,segments_imi/segments_total*100))"
   ]
  },
  {
   "cell_type": "code",
   "execution_count": 14,
   "metadata": {
    "collapsed": true
   },
   "outputs": [],
   "source": [
    "# save preprocessesd and segmented ECGs\n",
    "with open(os.path.join('..','data','imi_hc_64Hz_3_lead.bin'),'wb') as pfile:\n",
    "    pickle.dump(file=pfile,obj=data,protocol=4)"
   ]
  }
 ],
 "metadata": {
  "kernelspec": {
   "display_name": "Python 3",
   "language": "python",
   "name": "python3"
  },
  "language_info": {
   "codemirror_mode": {
    "name": "ipython",
    "version": 3
   },
   "file_extension": ".py",
   "mimetype": "text/x-python",
   "name": "python",
   "nbconvert_exporter": "python",
   "pygments_lexer": "ipython3",
   "version": "3.5.2"
  }
 },
 "nbformat": 4,
 "nbformat_minor": 2
}
